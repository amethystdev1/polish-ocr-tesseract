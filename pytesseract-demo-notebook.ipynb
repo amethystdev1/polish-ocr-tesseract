{
  "nbformat": 4,
  "nbformat_minor": 0,
  "metadata": {
    "colab": {
      "name": "Untitled0.ipynb",
      "provenance": []
    },
    "kernelspec": {
      "name": "python3",
      "display_name": "Python 3"
    }
  },
  "cells": [
    {
      "cell_type": "code",
      "metadata": {
        "id": "6y9hWSzo387n",
        "colab": {
          "base_uri": "https://localhost:8080/"
        },
        "outputId": "7352457e-2885-4673-b839-d288fe37503a"
      },
      "source": [
        "!pip install pytesseract\n",
        "!sudo apt install tesseract-ocr tesseract-ocr-pol"
      ],
      "execution_count": 37,
      "outputs": [
        {
          "output_type": "stream",
          "name": "stdout",
          "text": [
            "Requirement already satisfied: pytesseract in /usr/local/lib/python3.11/dist-packages (0.3.13)\n",
            "Requirement already satisfied: packaging>=21.3 in /usr/local/lib/python3.11/dist-packages (from pytesseract) (24.2)\n",
            "Requirement already satisfied: Pillow>=8.0.0 in /usr/local/lib/python3.11/dist-packages (from pytesseract) (11.1.0)\n",
            "Reading package lists... Done\n",
            "Building dependency tree... Done\n",
            "Reading state information... Done\n",
            "tesseract-ocr is already the newest version (4.1.1-2.1build1).\n",
            "tesseract-ocr-pol is already the newest version (1:4.00~git30-7274cfa-1.1).\n",
            "0 upgraded, 0 newly installed, 0 to remove and 49 not upgraded.\n"
          ]
        }
      ]
    },
    {
      "cell_type": "code",
      "metadata": {
        "id": "VfHpeQoX69Y7"
      },
      "source": [
        "import cv2\n",
        "import pytesseract\n",
        "import matplotlib.pyplot as plt\n",
        "from IPython.display import Image\n",
        "from pylab import rcParams\n",
        "import numpy as np\n",
        "from pprint import pprint\n",
        "from pytesseract import Output"
      ],
      "execution_count": 38,
      "outputs": []
    },
    {
      "cell_type": "code",
      "metadata": {
        "id": "aREMjlA77pNH"
      },
      "source": [
        "rcParams['figure.figsize'] = 8, 16"
      ],
      "execution_count": 39,
      "outputs": []
    },
    {
      "cell_type": "code",
      "source": [
        "import os\n",
        "\n",
        "images = []\n",
        "\n",
        "for cp, _, files in os.walk('PICTURES'):\n",
        "  for file_name in files:\n",
        "    fp = os.path.join(cp, file_name)\n",
        "    images.append(cv2.imread(fp))\n",
        "    print(\"Read\", fp)\n"
      ],
      "metadata": {
        "id": "X661KIE8nc71",
        "outputId": "3f2c5b0b-17cc-4931-9f84-d7518c400e37",
        "colab": {
          "base_uri": "https://localhost:8080/"
        }
      },
      "execution_count": 40,
      "outputs": [
        {
          "output_type": "stream",
          "name": "stdout",
          "text": [
            "Read PICTURES/ledr.jpg\n",
            "Read PICTURES/test/ledr.jpg\n"
          ]
        }
      ]
    },
    {
      "cell_type": "code",
      "metadata": {
        "id": "l-fNsEJo7YOE",
        "colab": {
          "base_uri": "https://localhost:8080/"
        },
        "outputId": "34a87b81-af41-4b1b-9a72-235404b6ff28"
      },
      "source": [
        "for index, image in enumerate(images):\n",
        "  text = pytesseract.image_to_string(image, lang=\"pol\")\n",
        "  print(f\"{index + 1}.\", text, end=\"---\" + \"\\n\\n\")"
      ],
      "execution_count": 46,
      "outputs": [
        {
          "output_type": "stream",
          "name": "stdout",
          "text": [
            "1. Budowa transformatora jednofazowego\n",
            "\n",
            "Każdy transformator jest zbudowany według tej\n",
            "samej zasady.\n",
            "\n",
            "Rdzeń (stanowiący obwód magnetyczny) nie jest\n",
            "litym kawałkiem metalu; jest on pakietowany, tzn.\n",
            "najczęściej składa się ze sprasowanych blach\n",
            "separowanych cienkim dielektrykiem, co ma na celu\n",
            "ograniczenie niepożądanych prądów wirowych.\n",
            "\n",
            "Oba uzwojenia transformatora (stanowiące obwody\n",
            "elektryczne) umieszcza się najczęściej na tej samej\n",
            "kolumnie obwodu magnetycznego, ponieważ w takim\n",
            "przypadku uzyskuje się lepsze skojarzenie\n",
            "elektromagnetyczne.\n",
            "\n",
            " \n",
            "\f---\n",
            "\n",
            "2. Budowa transformatora jednofazowego\n",
            "\n",
            "Każdy transformator jest zbudowany według tej\n",
            "samej zasady.\n",
            "\n",
            "Rdzeń (stanowiący obwód magnetyczny) nie jest\n",
            "litym kawałkiem metalu; jest on pakietowany, tzn.\n",
            "najczęściej składa się ze sprasowanych blach\n",
            "separowanych cienkim dielektrykiem, co ma na celu\n",
            "ograniczenie niepożądanych prądów wirowych.\n",
            "\n",
            "Oba uzwojenia transformatora (stanowiące obwody\n",
            "elektryczne) umieszcza się najczęściej na tej samej\n",
            "kolumnie obwodu magnetycznego, ponieważ w takim\n",
            "przypadku uzyskuje się lepsze skojarzenie\n",
            "elektromagnetyczne.\n",
            "\n",
            " \n",
            "\f---\n",
            "\n"
          ]
        }
      ]
    }
  ]
}